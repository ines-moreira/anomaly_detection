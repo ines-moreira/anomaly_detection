{
  "nbformat": 4,
  "nbformat_minor": 0,
  "metadata": {
    "colab": {
      "provenance": [],
      "toc_visible": true,
      "collapsed_sections": [
        "47lw7mzIKQGP",
        "UIth7UovLgSr",
        "6O7fE0wtAoWs"
      ]
    },
    "kernelspec": {
      "name": "python3",
      "display_name": "Python 3"
    },
    "language_info": {
      "name": "python"
    }
  },
  "cells": [
    {
      "cell_type": "markdown",
      "source": [
        "# Imports and loading data"
      ],
      "metadata": {
        "id": "47lw7mzIKQGP"
      }
    },
    {
      "cell_type": "code",
      "execution_count": null,
      "metadata": {
        "colab": {
          "base_uri": "https://localhost:8080/"
        },
        "id": "tFnwz9WpKC24",
        "outputId": "3bff2041-2140-45c4-96a3-51eebe2d74cd"
      },
      "outputs": [
        {
          "output_type": "stream",
          "name": "stdout",
          "text": [
            "Looking in indexes: https://pypi.org/simple, https://us-python.pkg.dev/colab-wheels/public/simple/\n",
            "Requirement already satisfied: pyod in /usr/local/lib/python3.10/dist-packages (1.0.9)\n",
            "Requirement already satisfied: joblib in /usr/local/lib/python3.10/dist-packages (from pyod) (1.2.0)\n",
            "Requirement already satisfied: matplotlib in /usr/local/lib/python3.10/dist-packages (from pyod) (3.7.1)\n",
            "Requirement already satisfied: numpy>=1.19 in /usr/local/lib/python3.10/dist-packages (from pyod) (1.22.4)\n",
            "Requirement already satisfied: numba>=0.51 in /usr/local/lib/python3.10/dist-packages (from pyod) (0.56.4)\n",
            "Requirement already satisfied: scipy>=1.5.1 in /usr/local/lib/python3.10/dist-packages (from pyod) (1.10.1)\n",
            "Requirement already satisfied: scikit-learn>=0.20.0 in /usr/local/lib/python3.10/dist-packages (from pyod) (1.2.2)\n",
            "Requirement already satisfied: six in /usr/local/lib/python3.10/dist-packages (from pyod) (1.16.0)\n",
            "Requirement already satisfied: llvmlite<0.40,>=0.39.0dev0 in /usr/local/lib/python3.10/dist-packages (from numba>=0.51->pyod) (0.39.1)\n",
            "Requirement already satisfied: setuptools in /usr/local/lib/python3.10/dist-packages (from numba>=0.51->pyod) (67.7.2)\n",
            "Requirement already satisfied: threadpoolctl>=2.0.0 in /usr/local/lib/python3.10/dist-packages (from scikit-learn>=0.20.0->pyod) (3.1.0)\n",
            "Requirement already satisfied: contourpy>=1.0.1 in /usr/local/lib/python3.10/dist-packages (from matplotlib->pyod) (1.0.7)\n",
            "Requirement already satisfied: cycler>=0.10 in /usr/local/lib/python3.10/dist-packages (from matplotlib->pyod) (0.11.0)\n",
            "Requirement already satisfied: fonttools>=4.22.0 in /usr/local/lib/python3.10/dist-packages (from matplotlib->pyod) (4.39.3)\n",
            "Requirement already satisfied: kiwisolver>=1.0.1 in /usr/local/lib/python3.10/dist-packages (from matplotlib->pyod) (1.4.4)\n",
            "Requirement already satisfied: packaging>=20.0 in /usr/local/lib/python3.10/dist-packages (from matplotlib->pyod) (23.1)\n",
            "Requirement already satisfied: pillow>=6.2.0 in /usr/local/lib/python3.10/dist-packages (from matplotlib->pyod) (8.4.0)\n",
            "Requirement already satisfied: pyparsing>=2.3.1 in /usr/local/lib/python3.10/dist-packages (from matplotlib->pyod) (3.0.9)\n",
            "Requirement already satisfied: python-dateutil>=2.7 in /usr/local/lib/python3.10/dist-packages (from matplotlib->pyod) (2.8.2)\n"
          ]
        }
      ],
      "source": [
        "!pip install pyod"
      ]
    },
    {
      "cell_type": "code",
      "source": [
        "!pip install pyhf"
      ],
      "metadata": {
        "colab": {
          "base_uri": "https://localhost:8080/"
        },
        "id": "kmP0L0-PL2LU",
        "outputId": "c448a2f3-91ed-4a95-be24-169272fe419b"
      },
      "execution_count": null,
      "outputs": [
        {
          "output_type": "stream",
          "name": "stdout",
          "text": [
            "Looking in indexes: https://pypi.org/simple, https://us-python.pkg.dev/colab-wheels/public/simple/\n",
            "Requirement already satisfied: pyhf in /usr/local/lib/python3.10/dist-packages (0.7.2)\n",
            "Requirement already satisfied: click>=8.0.0 in /usr/local/lib/python3.10/dist-packages (from pyhf) (8.1.3)\n",
            "Requirement already satisfied: jsonpatch>=1.15 in /usr/local/lib/python3.10/dist-packages (from pyhf) (1.33)\n",
            "Requirement already satisfied: jsonschema>=4.15.0 in /usr/local/lib/python3.10/dist-packages (from pyhf) (4.17.3)\n",
            "Requirement already satisfied: numpy in /usr/local/lib/python3.10/dist-packages (from pyhf) (1.22.4)\n",
            "Requirement already satisfied: pyyaml>=5.1 in /usr/local/lib/python3.10/dist-packages (from pyhf) (6.0)\n",
            "Requirement already satisfied: scipy>=1.2.0 in /usr/local/lib/python3.10/dist-packages (from pyhf) (1.10.1)\n",
            "Requirement already satisfied: tqdm>=4.56.0 in /usr/local/lib/python3.10/dist-packages (from pyhf) (4.65.0)\n",
            "Requirement already satisfied: jsonpointer>=1.9 in /usr/local/lib/python3.10/dist-packages (from jsonpatch>=1.15->pyhf) (2.4)\n",
            "Requirement already satisfied: attrs>=17.4.0 in /usr/local/lib/python3.10/dist-packages (from jsonschema>=4.15.0->pyhf) (23.1.0)\n",
            "Requirement already satisfied: pyrsistent!=0.17.0,!=0.17.1,!=0.17.2,>=0.14.0 in /usr/local/lib/python3.10/dist-packages (from jsonschema>=4.15.0->pyhf) (0.19.3)\n"
          ]
        }
      ]
    },
    {
      "cell_type": "code",
      "source": [
        "import pyhf\n",
        "import matplotlib.pyplot as plt\n",
        "import numpy as np\n",
        "from pyod.models.iforest import IForest\n",
        "from pyod.utils.data import generate_data\n",
        "from pyod.utils.data import evaluate_print\n",
        "from pyod.utils.example import visualize\n",
        "from sklearn.model_selection import train_test_split\n",
        "from sklearn.metrics import roc_curve, roc_auc_score\n",
        "from keras.callbacks import EarlyStopping\n",
        "from keras.models import Sequential\n",
        "from keras.layers import Dense, Activation, Flatten\n",
        "from tensorflow.keras.optimizers import Adam\n",
        "import tensorflow as tf\n",
        "tf.random.set_seed(2)\n",
        "import pandas as pd\n",
        "import sys\n",
        "import math\n",
        "import random\n",
        "import timeit\n",
        "import seaborn as sns\n",
        "sns.set_style(\"white\")\n",
        "import os\n",
        "import matplotlib.pyplot as plt\n",
        "from google.colab import drive\n",
        "drive.mount('/content/drive')"
      ],
      "metadata": {
        "colab": {
          "base_uri": "https://localhost:8080/"
        },
        "id": "8SgJNObEL2su",
        "outputId": "735c9718-a4c1-4b74-f3dd-c4e583bb6d67"
      },
      "execution_count": null,
      "outputs": [
        {
          "output_type": "stream",
          "name": "stdout",
          "text": [
            "Drive already mounted at /content/drive; to attempt to forcibly remount, call drive.mount(\"/content/drive\", force_remount=True).\n"
          ]
        }
      ]
    },
    {
      "cell_type": "markdown",
      "source": [
        "Since we dont have RAM capacity to read the entire Background file we will choose randomly 1500000 events from the file"
      ],
      "metadata": {
        "id": "veNBmRuNMI7L"
      }
    },
    {
      "cell_type": "code",
      "source": [
        "def sample_n_from_csv(filename:str, n:int=100, total_rows:int=None) -> pd.DataFrame:\n",
        "    if total_rows==None:\n",
        "        with open(filename,\"r\") as fh:\n",
        "            total_rows = sum(1 for row in fh)\n",
        "    if(n>total_rows):\n",
        "        print(\"Error: n > total_rows\", file=sys.stderr)\n",
        "    skip_rows =  random.sample(range(1,total_rows+1), total_rows-n)\n",
        "    return pd.read_csv(filename, skiprows=skip_rows)"
      ],
      "metadata": {
        "id": "wP7nu1iaMJX3"
      },
      "execution_count": null,
      "outputs": []
    },
    {
      "cell_type": "code",
      "source": [
        "Signal = pd.read_csv(\"/content/drive/MyDrive/MASH/ResmMed4000mX1lb0p2yp0p4.csv\")\n",
        "Background = sample_n_from_csv(\"/content/drive/MyDrive/MASH/bkg.csv\", n=1500000)"
      ],
      "metadata": {
        "id": "_SWLY0PPMMy1"
      },
      "execution_count": null,
      "outputs": []
    },
    {
      "cell_type": "markdown",
      "source": [
        "# Pre-processing data"
      ],
      "metadata": {
        "id": "UIth7UovLgSr"
      }
    },
    {
      "cell_type": "code",
      "source": [
        "Signal['label'] = 1\n",
        "Background['label'] = 0\n",
        "\n",
        "data = pd.concat([Signal, Background],ignore_index=True)\n",
        "\n",
        "train_features = ['MET', 'MET_Phi', 'isOdd', 'isBlind', 'nGoodJets',\n",
        "       'nGoodbJets', 'nGoodlJets', 'nGoodtoplJets', 'nForwardJets',\n",
        "       'nTruthJets', 'jet_pt', 'jet_e', 'jet_eta', 'jet_phi', 'ljet_pt',\n",
        "       'topjet_pt', 'ljet_e', 'topjet_e', 'ljet_m', 'topjet_m', 'ljet_eta',\n",
        "       'topjet_eta', 'ljet_phi', 'topjet_phi', 'fjet_pt', 'fjet_e', 'fjet_eta',\n",
        "       'fjet_phi', 'DeltaPhi_MET_ljet', 'Omega', 'DeltaPhi_MET_calojets',\n",
        "       'MT_JMET', 'HT', 'mtop', 'DeltaPt_top_jets', 'DeltaE_top_jets',\n",
        "       'DeltaPt_top_jetsbjet', 'DeltaE_top_jetsbjet', 'DeltaE_tot',\n",
        "       'DeltaPhi_bjet_topjet', 'Centrality', 'Centrality2', 'Centrality3',\n",
        "       'DeltaR_max', 'MT_bMET_min', 'DeltaR_bjet_topjet', 'DeltaPhi_MET_fjet',\n",
        "       'DeltaPhi_fjet_calojets', 'DeltaPt_fjet_jets', 'DeltaPt_fjet_bjet',\n",
        "       'DeltaPt_fjet_top', 'DeltaE_fjet_jets', 'DeltaE_fjet_jetsbjet',\n",
        "       'DeltaR_fjet_topjet', 'DeltaR_bjet_fjet', 'DeltaEta_fjet_topjet',\n",
        "       'DeltaEta_fjet_bjet', 'DeltaEta_fjet_jet', 'jet_DL1r', 'jet_DL1r_max',\n",
        "       'jet_DL1r_max2', 'jet_DL1r_bin', 'jet_DL1r_max_bin',\n",
        "       'jet_DL1r_max2_bin', 'ttbar_category', 'vjets_category','jet_px', 'jet_py', 'jet_pz', 'ljet_px',\n",
        "       'ljet_py', 'ljet_pz', 'fjet_px', 'fjet_py', 'fjet_pz', 'MET_m',\n",
        "       'MET_eta', 'MET_px', 'MET_py']\n",
        "\n",
        "Background_train = Background[Background['gen_split'] == 'train']\n",
        "Signal_train = Signal[Signal['gen_split'] == 'train']\n",
        "y_train = Background_train['label']\n",
        "y_train_s =Signal_train['label']\n",
        "Background_train = Background_train[train_features]\n",
        "Signal_train = Signal_train[train_features]\n",
        "\n",
        "data_val = data[data['gen_split'] == 'val']\n",
        "y_val = data_val['label']\n",
        "data_val = data_val[train_features]\n",
        "\n",
        "data_test = data[data['gen_split'] == 'test']\n",
        "y_test = data_test['label']\n",
        "data_test = data_test[train_features]\n",
        "\n",
        "# Standardise\n",
        "from sklearn.preprocessing import StandardScaler\n",
        "from sklearn.decomposition import PCA\n",
        "\n",
        "scaler = StandardScaler()\n",
        "pca = PCA()\n",
        "\n",
        "Background_train_std = scaler.fit_transform(Background_train)\n",
        "Signal_train_std = scaler.fit_transform(Signal_train)\n",
        "data_val_std   = scaler.transform(data_val)\n",
        "data_test_std  = scaler.transform(data_test)\n",
        "\n",
        "Background_train_std_pca = pca.fit_transform(Background_train_std)\n",
        "Signal_train_std_pca = pca.transform(Signal_train_std)\n",
        "data_val_std_pca   = pca.transform(data_val_std)\n",
        "data_test_std_pca  = pca.transform(data_test_std)\n"
      ],
      "metadata": {
        "id": "_BqRgIwYMPIm"
      },
      "execution_count": null,
      "outputs": []
    },
    {
      "cell_type": "markdown",
      "source": [
        "# Anomaly Detection Technique - iForest"
      ],
      "metadata": {
        "id": "3fwFYEkqLl3w"
      }
    },
    {
      "cell_type": "code",
      "source": [
        "# train IForest detector\n",
        "clf_name = 'IForest'\n",
        "clf = IForest(contamination=0.0001,n_estimators = 100 , max_features = 3)\n",
        "clf.fit(Background_train)\n",
        "\n",
        "print(clf.get_params())\n",
        "\n",
        "# example of the feature importance\n",
        "feature_importance = clf.feature_importances_\n",
        "print(\"Feature importance\", feature_importance)"
      ],
      "metadata": {
        "id": "aQ48MalrNyYi",
        "outputId": "78486ad5-fa7a-4aba-b400-e8c459d8bfc7",
        "colab": {
          "base_uri": "https://localhost:8080/",
          "height": 236
        }
      },
      "execution_count": null,
      "outputs": [
        {
          "output_type": "error",
          "ename": "NameError",
          "evalue": "ignored",
          "traceback": [
            "\u001b[0;31m---------------------------------------------------------------------------\u001b[0m",
            "\u001b[0;31mNameError\u001b[0m                                 Traceback (most recent call last)",
            "\u001b[0;32m<ipython-input-1-882f9474e7cf>\u001b[0m in \u001b[0;36m<cell line: 3>\u001b[0;34m()\u001b[0m\n\u001b[1;32m      1\u001b[0m \u001b[0;31m# train IForest detector\u001b[0m\u001b[0;34m\u001b[0m\u001b[0;34m\u001b[0m\u001b[0m\n\u001b[1;32m      2\u001b[0m \u001b[0mclf_name\u001b[0m \u001b[0;34m=\u001b[0m \u001b[0;34m'IForest'\u001b[0m\u001b[0;34m\u001b[0m\u001b[0;34m\u001b[0m\u001b[0m\n\u001b[0;32m----> 3\u001b[0;31m \u001b[0mclf\u001b[0m \u001b[0;34m=\u001b[0m \u001b[0mIForest\u001b[0m\u001b[0;34m(\u001b[0m\u001b[0mcontamination\u001b[0m\u001b[0;34m=\u001b[0m\u001b[0;36m0.0001\u001b[0m\u001b[0;34m,\u001b[0m\u001b[0mn_estimators\u001b[0m \u001b[0;34m=\u001b[0m \u001b[0;36m100\u001b[0m \u001b[0;34m,\u001b[0m \u001b[0mmax_features\u001b[0m \u001b[0;34m=\u001b[0m \u001b[0;36m3\u001b[0m\u001b[0;34m)\u001b[0m\u001b[0;34m\u001b[0m\u001b[0;34m\u001b[0m\u001b[0m\n\u001b[0m\u001b[1;32m      4\u001b[0m \u001b[0mclf\u001b[0m\u001b[0;34m.\u001b[0m\u001b[0mfit\u001b[0m\u001b[0;34m(\u001b[0m\u001b[0mBackground_train\u001b[0m\u001b[0;34m)\u001b[0m\u001b[0;34m\u001b[0m\u001b[0;34m\u001b[0m\u001b[0m\n\u001b[1;32m      5\u001b[0m \u001b[0;34m\u001b[0m\u001b[0m\n",
            "\u001b[0;31mNameError\u001b[0m: name 'IForest' is not defined"
          ]
        }
      ]
    },
    {
      "cell_type": "code",
      "source": [
        "# get the prediction labels and outlier scores of the training data\n",
        "y_train_pred = clf.labels_  # binary labels (0: inliers, 1: outliers)\n",
        "y_train_scores2 = clf.decision_scores_  # raw outlier scores\n",
        "y_train_scores = (y_train_scores2 - y_train_scores2.min())/(y_train_scores2.max() - y_train_scores2.min()) # outlier scores as a classifier\n",
        "\n",
        "# get the prediction on the test data\n",
        "#y_val_pred = clf.predict(Background_train)  # outlier labels (0 or 1)\n",
        "#y_val_scores = clf.decision_function(Background_train)  # outlier scores\n",
        "\n",
        "# get the prediction on the test data\n",
        "y_val_pred = clf.predict(data_val)  # outlier labels (0 or 1)\n",
        "y_val_scores2 = clf.decision_function(data_val)  # outlier scores\n",
        "y_val_scores = (y_val_scores2 - y_val_scores2.min())/(y_val_scores2.max() - y_val_scores2.min()) # outlier scores as a classifier\n",
        "\n",
        "\n",
        "# get the prediction on the test data\n",
        "y_val2_pred = clf.predict(Signal_train)  # outlier labels (0 or 1)\n",
        "y_val2_scores2 = clf.decision_function(Signal_train)  # outlier scores\n",
        "y_val2_scores = (y_val_scores2 - y_val_scores2.min())/(y_val_scores2.max() - y_val_scores2.min()) # outlier scores as a classifier"
      ],
      "metadata": {
        "colab": {
          "base_uri": "https://localhost:8080/"
        },
        "id": "XVhqI1IAQNLF",
        "outputId": "ac341840-6c4f-4473-bade-d46debc87003"
      },
      "execution_count": null,
      "outputs": [
        {
          "output_type": "stream",
          "name": "stderr",
          "text": [
            "/usr/local/lib/python3.10/dist-packages/sklearn/base.py:432: UserWarning: X has feature names, but IsolationForest was fitted without feature names\n",
            "  warnings.warn(\n",
            "/usr/local/lib/python3.10/dist-packages/sklearn/base.py:432: UserWarning: X has feature names, but IsolationForest was fitted without feature names\n",
            "  warnings.warn(\n",
            "/usr/local/lib/python3.10/dist-packages/sklearn/base.py:432: UserWarning: X has feature names, but IsolationForest was fitted without feature names\n",
            "  warnings.warn(\n",
            "/usr/local/lib/python3.10/dist-packages/sklearn/base.py:432: UserWarning: X has feature names, but IsolationForest was fitted without feature names\n",
            "  warnings.warn(\n"
          ]
        }
      ]
    },
    {
      "cell_type": "code",
      "source": [
        "bins = plt.hist(y_train_scores2[np.where(y_train == 0)], bins=50, density=True, histtype='step', label='bkg train')\n",
        "plt.hist(y_val_scores2[np.where(y_val == 1)], bins=bins[1], density=True, histtype='step', label='signal val')\n",
        "plt.hist(y_val_scores2[np.where(y_val == 0)], bins=bins[1], density=True, histtype='step', label='bkg val')\n",
        "plt.hist(y_val2_scores2[np.where(y_train_s == 1)], bins=bins[1], density=True, histtype='step', label='signal val 2')\n",
        "\n",
        "plt.xlabel('IForest raw scores')\n",
        "plt.legend(loc='upper left')\n",
        "plt.show()"
      ],
      "metadata": {
        "id": "Hyk-phU_O7e6"
      },
      "execution_count": null,
      "outputs": []
    },
    {
      "cell_type": "code",
      "source": [
        "bins = plt.hist(y_val_scores[np.where(y_val == 1)], bins=50, density=True, histtype='step', label='signal val')\n",
        "plt.hist(y_train_scores[np.where(y_train == 0)], bins[1], density=True, histtype='step', label='bkg train')\n",
        "plt.hist(y_val_scores[np.where(y_val == 0)], bins=bins[1], density=True, histtype='step', label='bkg val')\n",
        "plt.hist(y_val2_scores[np.where(y_train_s == 1)], bins=bins[1], density=True, histtype='step', label='signal val 2')\n",
        "\n",
        "plt.xlim(0,0.8)\n",
        "plt.xlabel('IForest output')\n",
        "plt.legend(loc='upper left')\n",
        "plt.show()"
      ],
      "metadata": {
        "id": "YbkVH9zHPc9L"
      },
      "execution_count": null,
      "outputs": []
    },
    {
      "cell_type": "code",
      "source": [
        "from sklearn.metrics import roc_curve, roc_auc_score\n",
        "\n",
        "fpr, tpr, _ = roc_curve(y_val, y_val_scores)\n",
        "auc = roc_auc_score(y_val, y_val_scores)\n",
        "plt.plot(fpr,tpr,label=f'AUC {auc}')\n",
        "plt.xlabel('False Positive Rate')\n",
        "plt.ylabel('True Positive Rate')\n",
        "plt.legend()\n",
        "plt.show()"
      ],
      "metadata": {
        "colab": {
          "base_uri": "https://localhost:8080/",
          "height": 757
        },
        "id": "eXKqc6GsOUhC",
        "outputId": "fd254ec3-4952-49f3-a53b-bfecae1e1130"
      },
      "execution_count": null,
      "outputs": [
        {
          "output_type": "display_data",
          "data": {
            "text/plain": [
              "<Figure size 750x750 with 1 Axes>"
            ],
            "image/png": "[encoded data removed]"
          },
          "metadata": {}
        }
      ]
    },
    {
      "cell_type": "code",
      "source": [
        "def significance(s, b):\n",
        "    if s + b == 0:\n",
        "        return 0.0  # Handle the case when both s and b are zero to avoid division by zero\n",
        "    try:\n",
        "        sig = math.sqrt(2*(s+b)*math.log(1+s/b)-2*s)\n",
        "        return sig if not np.isnan(sig) else 0\n",
        "    except ValueError:\n",
        "        return 0.0  # Handle other potential invalid calculations, such as taking the square root of a negative number"
      ],
      "metadata": {
        "id": "IT86VXrbOYOu"
      },
      "execution_count": null,
      "outputs": []
    },
    {
      "cell_type": "code",
      "source": [
        "def find_local_maxima(arr):\n",
        "    local_maxima = []\n",
        "    for i in range(1, len(arr) - 1):\n",
        "        if arr[i] > arr[i - 1] and arr[i] > arr[i + 1]:\n",
        "            local_maxima.append(arr[i])\n",
        "    return local_maxima\n",
        "\n",
        "sig = []\n",
        "cuts = np.linspace(0,0.8,50)\n",
        "for j in cuts:\n",
        "  s =  np.count_nonzero(y_val_scores[np.where(y_val == 1)] > j)\n",
        "  b =  np.count_nonzero(y_val_scores[np.where(y_val == 0)] > j)\n",
        "  #print(s , b)\n",
        "  sig = np.append(sig, significance(s,b))\n",
        "\n",
        "\n",
        "print(f'max {max(sig)} mt cut at {cuts[np.argmax(sig)]}')\n",
        "\n",
        "max_abs = cuts[np.argmax(sig)]\n",
        "\n",
        "small_max = cuts[np.where(sig == find_local_maxima(sig)[0])]\n",
        "\n",
        "plt.plot(np.linspace(0,0.8,50),sig,label=f'max {max(sig)}')\n",
        "plt.xlabel('Iforest output')\n",
        "plt.ylabel('Significance')\n",
        "plt.legend()\n",
        "plt.show()"
      ],
      "metadata": {
        "colab": {
          "base_uri": "https://localhost:8080/",
          "height": 774
        },
        "id": "TfOLEoafOdLT",
        "outputId": "590bbd82-7349-4f2b-ac8d-1f1004ee28cd"
      },
      "execution_count": null,
      "outputs": [
        {
          "output_type": "stream",
          "name": "stdout",
          "text": [
            "max 108.21783450468764 mt cut at 0.4408163265306123\n"
          ]
        },
        {
          "output_type": "display_data",
          "data": {
            "text/plain": [
              "<Figure size 750x750 with 1 Axes>"
            ],
            "image/png": "[encoded data removed]"
          },
          "metadata": {}
        }
      ]
    },
    {
      "cell_type": "code",
      "source": [
        "# VALIDATION PLOTS\n",
        "plt.rcParams[\"figure.figsize\"] = [7.50, 7.50]\n",
        "plt.rcParams[\"figure.autolayout\"] = True\n",
        "\n",
        "#I THINK IT IS BETTER TO CHOOSE WHAT YOU WANT TO SEE:\n",
        "feature1 = 'MET'\n",
        "feature2 = 'jet_e'\n",
        "\n",
        "# Extract the features from data_val\n",
        "X_val = data_val[feature1].values\n",
        "Y_val = data_val[feature2].values\n",
        "\n",
        "# Plot the points SCORES\n",
        "#plt.subplot(412)\n",
        "#plt.scatter(X_val, Y_val, s=2, c=y_val_scores, cmap='coolwarm')\n",
        "\n",
        "# Set labels and title\n",
        "#plt.title('Validation scores')\n",
        "#plt.xlabel(feature1)\n",
        "#plt.ylabel(feature2)\n",
        "#plt.xlim(X_val.min(), X_val.max())\n",
        "#plt.ylim(Y_val.min(), Y_val.max())\n",
        "\n",
        "#Ciclo para nosso predict\n",
        "y_val_pred_mine = []\n",
        "for i in range((len(y_val_scores))):\n",
        "  if (y_val_scores[i] > small_max): y_val_pred_mine = np.append(y_val_pred_mine, 1)\n",
        "  if (y_val_scores[i] <= small_max): y_val_pred_mine = np.append(y_val_pred_mine, 0)"
      ],
      "metadata": {
        "id": "56ChyEE8Onhj"
      },
      "execution_count": null,
      "outputs": []
    },
    {
      "cell_type": "code",
      "source": [
        "# Plot the points TRUE\n",
        "plt.subplot(411)\n",
        "plt.scatter(X_val, Y_val, s=2, c=y_val, cmap='coolwarm', alpha=0.1)\n",
        "\n",
        "# Set labels and title\n",
        "plt.title('Validation true')\n",
        "plt.xlabel(feature1)\n",
        "plt.ylabel(feature2)\n",
        "plt.xlim(X_val.min(), 3500)\n",
        "plt.ylim(Y_val.min(), Y_val.max())\n",
        "# Plot the points CLASSIFICATION Mine\n",
        "\n",
        "plt.subplot(412)\n",
        "\n",
        "\n",
        "plt.scatter(X_val, Y_val, s=2, c=y_val_pred_mine, cmap='coolwarm', alpha=0.1)\n",
        "\n",
        "# Set labels and title\n",
        "plt.title('Validation classified OUR')\n",
        "plt.xlabel(feature1)\n",
        "plt.ylabel(feature2)\n",
        "plt.xlim(X_val.min(), 3500)\n",
        "plt.ylim(Y_val.min(), Y_val.max())\n",
        "\n",
        "# Plot the points CLASSIFICATION\n",
        "#plt.subplot(414)\n",
        "\n",
        "#X_aux = []\n",
        "#Y_aux = []\n",
        "#for i in range((len(y_val_pred))):\n",
        "#  if (y_val_pred[i] == 1 ):\n",
        "#    X_aux = np.append(X_aux, X_val[i])\n",
        "#    Y_aux = np.append(Y_aux, Y_val[i])\n",
        "#plt.scatter(X_aux, Y_aux, s=2, color = 'red', alpha=0.1)\n",
        "\n",
        "# Set labels and title\n",
        "#plt.title('Validation classified')\n",
        "#plt.xlim(X_val.min(), X_val.max())\n",
        "#plt.ylim(Y_val.min(), Y_val.max())\n",
        "#plt.xlabel(feature1)\n",
        "#plt.ylabel(feature2)\n",
        "\n",
        "\n",
        "# Show the plot\n",
        "plt.show()\n",
        "\n",
        "#for i in np.linspace(0,0.8,50):\n",
        "#  print(i, np.count_nonzero(y_val_scores > i))\n",
        "\n",
        "\n",
        "print(f'Outliers at TRUE: {np.count_nonzero(y_val == 1)} \\nOutliers at CLASSIFIED: {np.count_nonzero(y_val_pred == 1)} \\nScores > {small_max} : {np.count_nonzero(y_val_scores > small_max)} , \\nScores > {max_abs} {np.count_nonzero(y_val_scores > max_abs)}')\n",
        "\n",
        "print(np.count_nonzero(y_val_scores > small_max)/np.count_nonzero(y_val == 1))"
      ],
      "metadata": {
        "id": "EoHo8hfTVKe7"
      },
      "execution_count": null,
      "outputs": []
    },
    {
      "cell_type": "code",
      "source": [
        "test_weights_df = data[data['gen_split'] == 'test']\n",
        "test_weights_df_s = test_weights_df[test_weights_df['label'] == 1]\n",
        "test_weights_s = []\n",
        "test_weights_s = test_weights_df_s['normalisedCombinedWeight'].values\n",
        "test_weights_df_b = test_weights_df[test_weights_df['label'] == 0]\n",
        "test_weights_b = []\n",
        "test_weights_b = test_weights_df_b['normalisedCombinedWeight'].values\n",
        "test_weights_t = []\n",
        "test_weights_t = test_weights_df['normalisedCombinedWeight'].values"
      ],
      "metadata": {
        "id": "lCheSVMHW9hH"
      },
      "execution_count": null,
      "outputs": []
    },
    {
      "cell_type": "code",
      "source": [
        "y_test_pred = clf.predict(data_test)  # outlier labels (0 or 1)\n",
        "y_test_scores2 = clf.decision_function(data_test)  # outlier scores\n",
        "y_test_scores = (y_test_scores2 - y_test_scores2.min())/(y_test_scores2.max() - y_test_scores2.min()) # outlier scores as a classifier"
      ],
      "metadata": {
        "id": "3EzAPUI6dUQB"
      },
      "execution_count": null,
      "outputs": []
    },
    {
      "cell_type": "code",
      "source": [
        "y_test_scores_bkg = np.squeeze(y_test_scores[np.where(y_test == 0)])\n",
        "y_test_scores_sig = np.squeeze(y_test_scores[np.where(y_test == 1)])\n",
        "\n",
        "print(len(y_test_scores[np.where(y_test == 0)]))\n",
        "print(len(test_weights_b))\n",
        "\n",
        "bins= plt.hist(y_test_scores_bkg, bins=50, weights= test_weights_b, histtype='bar', stacked=True, fill=True, color=['blue'],label=['bkg'])\n",
        "bin_counts_b, bin_edges_b, _ = plt.hist(y_test_scores[np.where(y_test == 0)],bins=bins[1],weights=test_weights_b, histtype='step', color='white')\n",
        "bin_centres = (bin_edges_b[:-1] + bin_edges_b[1:]) / 2\n",
        "y_error = np.sqrt(bin_counts_b)\n",
        "#plt.errorbar(x=bin_centres, y=bin_counts,\n",
        "#            yerr=y_error, color='black', fmt='o', capsize=2, label='data')\n",
        "\n",
        "\n",
        "\n",
        "bins = plt.hist(y_test_scores_sig, bins=bins[1], weights= test_weights_s, histtype='bar', stacked=True, fill=True, color=['gold'],label=['sig'])\n",
        "bin_counts_s, bin_edges_s , _ = plt.hist(y_test_scores[np.where(y_test == 1)],bins=bins[1],weights=test_weights_s, histtype='step', color='white')\n",
        "bin_centres = (bin_edges_s[:-1] + bin_edges_s[1:]) / 2\n",
        "y_error = np.sqrt(bin_counts_s)\n",
        "#plt.errorbar(x=bin_centres, y=bin_counts,\n",
        "#             yerr=y_error, color='black', fmt='o', capsize=2, label='data')\n",
        "\n",
        "\n",
        "bin_counts_t, bin_edges_t , _ = plt.hist(y_test_scores,bins=bins[1],weights=test_weights_t, histtype='step', color='black')\n",
        "bin_centres = (bin_edges_t[:-1] + bin_edges_t[1:]) / 2\n",
        "y_error = np.sqrt(bin_counts_t)\n",
        "#plt.errorbar(x=bin_centres, y=bin_counts,\n",
        "#             yerr=y_error, color='black', fmt='o', capsize=2, label='data')\n",
        "\n",
        "plt.legend()\n",
        "plt.xlabel('Score histogram test sample')\n",
        "plt.yscale('log')  # Set y-axis to logarithmic scale\n",
        "plt.show()"
      ],
      "metadata": {
        "id": "MRUlPER6ZcXs"
      },
      "execution_count": null,
      "outputs": []
    },
    {
      "cell_type": "code",
      "source": [
        "bck = np.histogram(y_test_scores_bkg, bins=50, weights= test_weights_b)\n",
        "bck_count, bck_edges = np.histogram(y_test_scores_bkg, bins=50, weights= test_weights_b)\n",
        "bck_centres = (bck_edges[:-1] + bck_edges[1:])/ 2\n",
        "bck_width = np.diff(bck_edges)[0]\n",
        "plt.bar(bck_centres,bck_count, label = 'bkg', color = 'blue', width = bck_width)\n",
        "\n",
        "sig = np.histogram(y_test_scores_sig, bins=50, weights= test_weights_s)\n",
        "sig_count, sig_edges = np.histogram(y_test_scores_sig, bins=50, weights= test_weights_s)\n",
        "plt.bar(bck_centres, sig_count, label = 'sig', color = 'gold', width = bck_width, bottom =bck_count)\n",
        "\n",
        "\n",
        "tot = np.histogram(y_test_scores, bins=50, weights= test_weights_t)\n",
        "tot_edges = tot[1].tolist()\n",
        "\n",
        "plt.hist(y_test_scores, bins=bck[1],weights=test_weights_t, histtype='step',label = 'total ', color='black')\n",
        "\n",
        "plt.legend()\n",
        "plt.xlabel(\"Score histogram stacked\")\n",
        "plt.yscale('log')\n",
        "plt.show()\n",
        "\n",
        "#plt.hist([y_test_pred_bkg,y_test_pred_sig], bins=50, weights= [test_weights_s,test_weights_b], histtype='bar', stacked=True, fill=True, color=['gold','blue'],label=['bkg','sig'])\n",
        "#plt.legend()\n",
        "#plt.yscale('log')  # Set y-axis to logarithmic scale\n",
        "#plt.show()"
      ],
      "metadata": {
        "id": "2ORwG6BO-hcM"
      },
      "execution_count": null,
      "outputs": []
    },
    {
      "cell_type": "code",
      "source": [
        "from keras import backend\n",
        "model_spec = {'channels': [{'name': 'singlechannel',\n",
        "              'samples': [\n",
        "              {'name': 'signal','data': sig[0].tolist() ,\n",
        "               'modifiers': [{'data': None, 'name': 'mu', 'type': 'normfactor'}]},\n",
        "              {'name': 'bkg','data': bck[0].tolist() ,\n",
        "               'modifiers': [#{'data': None, 'name': 'bkg1_scale', 'type': 'normfactor'}, # Normalisation factor for bkg1\n",
        "                            ]},\n",
        "              ]\n",
        "              }],\n",
        "              \"observations\": [{ \"name\": \"singlechannel\", \"data\": tot[0].tolist() }],\n",
        "              \"measurements\": [{ \"name\": \"Measurement\", \"config\": {\"poi\": \"mu\", \"parameters\": []}}],\n",
        "              \"version\": \"1.0.0\",\n",
        "}\n",
        "\n",
        "workspace = pyhf.Workspace(model_spec)\n",
        "model = workspace.model()\n",
        "\n",
        "print(\"## Model\")\n",
        "print(f\"  channels: {model.config.channels}\")\n",
        "print(f\"     nbins: {model.config.channel_nbins}\")\n",
        "print(f\"   samples: {model.config.samples}\")\n",
        "print(f\" modifiers: {model.config.modifiers}\")\n",
        "print(f\"parameters: {model.config.parameters}\")\n",
        "print(f\"par. order: {model.config.par_order}\")\n",
        "\n",
        "print(\"\\n## Model parameters\")\n",
        "print(f'   default: {model.config.suggested_init()}')\n",
        "print(f'    bounds: {model.config.suggested_bounds()}')"
      ],
      "metadata": {
        "id": "1o_sdmQEb_EW"
      },
      "execution_count": null,
      "outputs": []
    },
    {
      "cell_type": "code",
      "source": [
        "data = bck[0].tolist() + model.config.auxdata\n",
        "\n",
        "best_pars = pyhf.infer.mle.fit(data=data, pdf=model)\n",
        "print(\"\\nBest fit parameters:\")\n",
        "for i,p in enumerate(best_pars):\n",
        "  print(f'\\t{model.config.par_order[i]}: {best_pars[i]:.2e}')\n",
        "\n",
        "\n",
        "test_stat = \"qtilde\"\n",
        "test_poi = 1.\n",
        "\n",
        "# Vary mu values\n",
        "poi_values = np.linspace(0.1, 5, 50)\n",
        "obs_limit, exp_limits = pyhf.infer.intervals.upperlimit(data, model, poi_values, level=0.05)\n",
        "print(f\"Observed μ upper limit (obs): {obs_limit:.3f}, Expected μ upper limit {exp_limits[2]:.3f}\")"
      ],
      "metadata": {
        "colab": {
          "base_uri": "https://localhost:8080/"
        },
        "id": "eD7vItlSAQIb",
        "outputId": "f596ac2a-4473-4630-f1cb-5e23693ab965"
      },
      "execution_count": null,
      "outputs": [
        {
          "output_type": "stream",
          "name": "stdout",
          "text": [
            "\n",
            "Best fit parameters:\n",
            "\tmu: 1.42e-14\n"
          ]
        },
        {
          "output_type": "stream",
          "name": "stderr",
          "text": [
            "<ipython-input-54-43ec16e57746>:14: DeprecationWarning: pyhf.infer.intervals.upperlimit is deprecated in favor of pyhf.infer.intervals.upper_limits.upper_limit as of pyhf v0.7.0 and will be removed in pyhf v0.9.0. Please use pyhf.infer.intervals.upper_limits.upper_limit.\n",
            "  obs_limit, exp_limits = pyhf.infer.intervals.upperlimit(data, model, poi_values, level=0.05)\n"
          ]
        },
        {
          "output_type": "stream",
          "name": "stdout",
          "text": [
            "Observed μ upper limit (obs): 1.437, Expected μ upper limit 1.437\n"
          ]
        }
      ]
    },
    {
      "cell_type": "code",
      "source": [
        "data = tot[0].tolist() + model.config.auxdata\n",
        "\n",
        "best_pars = pyhf.infer.mle.fit(data=data, pdf=model)\n",
        "print(\"\\nBest fit parameters:\")\n",
        "for i,p in enumerate(best_pars):\n",
        "  print(f'\\t{model.config.par_order[i]}: {best_pars[i]:.2e}')\n",
        "\n",
        "\n",
        "test_stat = \"qtilde\"\n",
        "test_poi = 1.\n",
        "\n",
        "# Vary mu values\n",
        "poi_values = np.linspace(0.1, 5, 50)\n",
        "obs_limit, exp_limits = pyhf.infer.intervals.upperlimit(data, model, poi_values, level=0.05)\n",
        "print(f\"Observed μ upper limit (obs): {obs_limit:.3f}, Expected μ upper limit {exp_limits[2]:.3f}\")"
      ],
      "metadata": {
        "id": "LaGtx9p1AYEw"
      },
      "execution_count": null,
      "outputs": []
    },
    {
      "cell_type": "markdown",
      "source": [
        "# Anomaly Detection Technique - HBOS"
      ],
      "metadata": {
        "id": "6O7fE0wtAoWs"
      }
    },
    {
      "cell_type": "code",
      "source": [
        "from pyod.models.hbos import HBOS\n",
        "# train HBOS detector\n",
        "clf2 = HBOS(n_bins=20, alpha=0.5, tol=0.01, contamination=0.01)\n",
        "clf2.fit(Background_train)\n",
        "\n",
        "# get the prediction labels and outlier scores of the training data\n",
        "y_train_pred = clf2.labels_  # binary labels (0: inliers, 1: outliers)\n",
        "y_train_scores2 = clf2.decision_scores_  # raw outlier scores\n",
        "y_train_scores = (y_train_scores - y_train_scores.min())/(y_train_scores.max() - y_train_scores.min()) # outlier scores as a classifier\n",
        "\n",
        "# get the prediction on the test data\n",
        "#y_val_pred = clf.predict(Background_train)  # outlier labels (0 or 1)\n",
        "#y_val_scores = clf.decision_function(Background_train)  # outlier scores\n",
        "\n",
        "# get the prediction on the test data\n",
        "y_val_pred = clf2.predict(data_val)  # outlier labels (0 or 1)\n",
        "y_val_scores2 = clf2.decision_function(data_val)  # outlier scores\n",
        "y_val_scores = (y_val_scores2 - y_val_scores2.min())/(y_val_scores2.max() - y_val_scores2.min()) # outlier scores as a classifier\n",
        "\n",
        "print(clf2.get_params())"
      ],
      "metadata": {
        "id": "YHFI8WJGAtG-"
      },
      "execution_count": null,
      "outputs": []
    },
    {
      "cell_type": "code",
      "source": [
        "bins = plt.hist(y_train_scores2[np.where(y_train == 0)], bins=50, density=True, histtype='step', label='bkg train')\n",
        "plt.hist(y_val_scores2[np.where(y_val == 1)], bins=bins[1], density=True, histtype='step', label='signal val')\n",
        "plt.hist(y_val_scores2[np.where(y_val == 0)], bins=bins[1], density=True, histtype='step', label='bkg val')\n",
        "\n",
        "plt.xlabel('HBOS raw scores')\n",
        "plt.legend(loc='upper left')\n",
        "plt.show()"
      ],
      "metadata": {
        "id": "hBtOiqDVBLyp"
      },
      "execution_count": null,
      "outputs": []
    },
    {
      "cell_type": "code",
      "source": [
        "bins = plt.hist(y_train_scores[np.where(y_train == 1)], bins=50, density=True, histtype='step', label='signal train')\n",
        "plt.hist(y_val_scores[np.where(y_val == 1)], bins=bins[1], density=True, histtype='step', label='signal val')\n",
        "\n",
        "plt.hist(y_train_scores[np.where(y_train == 0)], bins=50, density=True, histtype='step', label='bkg train')\n",
        "plt.hist(y_val_scores[np.where(y_val == 0)], bins=bins[1], density=True, histtype='step', label='bkg val')\n",
        "\n",
        "plt.xlabel('HBOS output')\n",
        "plt.legend(loc='upper left')\n",
        "plt.show()"
      ],
      "metadata": {
        "colab": {
          "base_uri": "https://localhost:8080/",
          "height": 89
        },
        "id": "HoAyTpLOBOfO",
        "outputId": "8ec3a486-c440-42c4-c10e-30fdd3a71854"
      },
      "execution_count": null,
      "outputs": [
        {
          "output_type": "stream",
          "name": "stderr",
          "text": [
            "/usr/local/lib/python3.10/dist-packages/numpy/lib/histograms.py:906: RuntimeWarning: invalid value encountered in true_divide\n",
            "  return n/db/n.sum(), bin_edges\n"
          ]
        },
        {
          "output_type": "display_data",
          "data": {
            "text/plain": [
              "<Figure size 750x750 with 1 Axes>"
            ],
            "image/png": "[encoded data removed]"
          },
          "metadata": {}
        }
      ]
    },
    {
      "cell_type": "code",
      "source": [
        "from sklearn.metrics import roc_curve, roc_auc_score\n",
        "\n",
        "fpr, tpr, _ = roc_curve(y_val, y_val_scores)\n",
        "auc = roc_auc_score(y_val, y_val_scores)\n",
        "plt.plot(fpr,tpr,label=f'AUC {auc}')\n",
        "plt.xlabel('False Positive Rate')\n",
        "plt.ylabel('True Positive Rate')\n",
        "plt.legend()\n",
        "plt.show()"
      ],
      "metadata": {
        "colab": {
          "base_uri": "https://localhost:8080/",
          "height": 54
        },
        "id": "1b-AN6IpBT5w",
        "outputId": "150b8d23-bfd1-4944-c1f6-2e9e983b8c0c"
      },
      "execution_count": null,
      "outputs": [
        {
          "output_type": "display_data",
          "data": {
            "text/plain": [
              "<Figure size 750x750 with 1 Axes>"
            ],
            "image/png": "[encoded data removed]"
          },
          "metadata": {}
        }
      ]
    },
    {
      "cell_type": "code",
      "source": [
        "y_test_pred = clf2.predict(data_test)  # outlier labels (0 or 1)\n",
        "y_test_scores2 = clf2.decision_function(data_test)  # outlier scores\n",
        "y_test_scores = (y_test_scores2 - y_test_scores2.min())/(y_test_scores2.max() - y_test_scores2.min()) # outlier scores as a classifier"
      ],
      "metadata": {
        "id": "wz05NzURBVLH"
      },
      "execution_count": null,
      "outputs": []
    },
    {
      "cell_type": "code",
      "source": [
        "y_test_scores_bkg = np.squeeze(y_test_scores[np.where(y_test == 0)])\n",
        "y_test_scores_sig = np.squeeze(y_test_scores[np.where(y_test == 1)])\n",
        "\n",
        "print(len(y_test_scores[np.where(y_test == 0)]))\n",
        "print(len(test_weights_b))\n",
        "\n",
        "bins= plt.hist(y_test_scores_bkg, bins=50, weights= test_weights_b, histtype='bar', stacked=True, fill=True, color=['blue'],label=['bkg'])\n",
        "bin_counts_b, bin_edges_b, _ = plt.hist(y_test_scores[np.where(y_test == 0)],bins=bins[1],weights=test_weights_b, histtype='step', color='white')\n",
        "bin_centres = (bin_edges_b[:-1] + bin_edges_b[1:]) / 2\n",
        "y_error = np.sqrt(bin_counts_b)\n",
        "#plt.errorbar(x=bin_centres, y=bin_counts,\n",
        "#            yerr=y_error, color='black', fmt='o', capsize=2, label='data')\n",
        "\n",
        "\n",
        "\n",
        "bins = plt.hist(y_test_scores_sig, bins=bins[1], weights= test_weights_s, histtype='bar', stacked=True, fill=True, color=['gold'],label=['sig'])\n",
        "bin_counts_s, bin_edges_s , _ = plt.hist(y_test_scores[np.where(y_test == 1)],bins=bins[1],weights=test_weights_s, histtype='step', color='white')\n",
        "bin_centres = (bin_edges_s[:-1] + bin_edges_s[1:]) / 2\n",
        "y_error = np.sqrt(bin_counts_s)\n",
        "#plt.errorbar(x=bin_centres, y=bin_counts,\n",
        "#             yerr=y_error, color='black', fmt='o', capsize=2, label='data')\n",
        "\n",
        "\n",
        "bin_counts_t, bin_edges_t , _ = plt.hist(y_test_scores,bins=bins[1],weights=test_weights_t, histtype='step', color='black')\n",
        "bin_centres = (bin_edges_t[:-1] + bin_edges_t[1:]) / 2\n",
        "y_error = np.sqrt(bin_counts_t)\n",
        "#plt.errorbar(x=bin_centres, y=bin_counts,\n",
        "#             yerr=y_error, color='black', fmt='o', capsize=2, label='data')\n",
        "\n",
        "plt.legend()\n",
        "plt.xlabel('Score histogram test sample')\n",
        "plt.yscale('log')  # Set y-axis to logarithmic scale\n",
        "plt.show()"
      ],
      "metadata": {
        "colab": {
          "base_uri": "https://localhost:8080/",
          "height": 89
        },
        "id": "pCkxuYHyBlhH",
        "outputId": "e58523bc-8b2d-4c84-f8ee-109294a2ef45"
      },
      "execution_count": null,
      "outputs": [
        {
          "output_type": "stream",
          "name": "stdout",
          "text": [
            "499544\n",
            "499544\n"
          ]
        },
        {
          "output_type": "display_data",
          "data": {
            "text/plain": [
              "<Figure size 750x750 with 1 Axes>"
            ],
            "image/png": "[encoded data removed]"
          },
          "metadata": {}
        }
      ]
    },
    {
      "cell_type": "code",
      "source": [
        "bck = np.histogram(y_test_scores_bkg, bins=50, weights= test_weights_b)\n",
        "bck_count, bck_edges = np.histogram(y_test_scores_bkg, bins=50, weights= test_weights_b)\n",
        "bck_centres = (bck_edges[:-1] + bck_edges[1:])/ 2\n",
        "bck_width = np.diff(bck_edges)[0]\n",
        "plt.bar(bck_centres,bck_count, label = 'bkg', color = 'blue', width = bck_width)\n",
        "\n",
        "sig = np.histogram(y_test_scores_sig, bins=50, weights= test_weights_s)\n",
        "sig_count, sig_edges = np.histogram(y_test_scores_sig, bins=50, weights= test_weights_s)\n",
        "plt.bar(bck_centres, sig_count, label = 'sig', color = 'gold', width = bck_width, bottom =bck[0])\n",
        "\n",
        "\n",
        "tot = np.histogram(y_test_scores, bins=50, weights= test_weights_t)\n",
        "tot_edges = tot[1].tolist()\n",
        "\n",
        "plt.hist(y_test_scores, bins=bck[1],weights=test_weights_t, histtype='step',label = 'total ', color='black')\n",
        "\n",
        "plt.legend()\n",
        "plt.xlabel(\"Score histogram stacked\")\n",
        "plt.yscale('log')\n",
        "plt.show()\n",
        "\n",
        "#plt.hist([y_test_pred_bkg,y_test_pred_sig], bins=50, weights= [test_weights_s,test_weights_b], histtype='bar', stacked=True, fill=True, color=['gold','blue'],label=['bkg','sig'])\n",
        "#plt.legend()\n",
        "#plt.yscale('log')  # Set y-axis to logarithmic scale\n",
        "#plt.show()"
      ],
      "metadata": {
        "id": "UvKDy5ouBwKm"
      },
      "execution_count": null,
      "outputs": []
    },
    {
      "cell_type": "code",
      "source": [
        "from keras import backend\n",
        "model_spec = {'channels': [{'name': 'singlechannel',\n",
        "              'samples': [\n",
        "              {'name': 'signal','data': sig[0].tolist() ,\n",
        "               'modifiers': [{'data': None, 'name': 'mu', 'type': 'normfactor'}]},\n",
        "              {'name': 'bkg','data': bck[0].tolist() ,\n",
        "               'modifiers': [#{'data': None, 'name': 'bkg1_scale', 'type': 'normfactor'}, # Normalisation factor for bkg1\n",
        "                            ]},\n",
        "              ]\n",
        "              }],\n",
        "              \"observations\": [{ \"name\": \"singlechannel\", \"data\": tot[0].tolist() }],\n",
        "              \"measurements\": [{ \"name\": \"Measurement\", \"config\": {\"poi\": \"mu\", \"parameters\": []}}],\n",
        "              \"version\": \"1.0.0\",\n",
        "}\n",
        "\n",
        "workspace = pyhf.Workspace(model_spec)\n",
        "model = workspace.model()\n",
        "\n",
        "print(\"## Model\")\n",
        "print(f\"  channels: {model.config.channels}\")\n",
        "print(f\"     nbins: {model.config.channel_nbins}\")\n",
        "print(f\"   samples: {model.config.samples}\")\n",
        "print(f\" modifiers: {model.config.modifiers}\")\n",
        "print(f\"parameters: {model.config.parameters}\")\n",
        "print(f\"par. order: {model.config.par_order}\")\n",
        "\n",
        "print(\"\\n## Model parameters\")\n",
        "print(f'   default: {model.config.suggested_init()}')\n",
        "print(f'    bounds: {model.config.suggested_bounds()}')"
      ],
      "metadata": {
        "id": "JNqTloYaCGqw"
      },
      "execution_count": null,
      "outputs": []
    },
    {
      "cell_type": "code",
      "source": [
        "data = bck[0].tolist() + model.config.auxdata\n",
        "\n",
        "best_pars = pyhf.infer.mle.fit(data=data, pdf=model)\n",
        "print(\"\\nBest fit parameters:\")\n",
        "for i,p in enumerate(best_pars):\n",
        "  print(f'\\t{model.config.par_order[i]}: {best_pars[i]:.2e}')\n",
        "\n",
        "\n",
        "test_stat = \"qtilde\"\n",
        "test_poi = 1.\n",
        "\n",
        "# Vary mu values\n",
        "poi_values = np.linspace(0.1, 5, 50)\n",
        "obs_limit, exp_limits = pyhf.infer.intervals.upperlimit(data, model, poi_values, level=0.05)\n",
        "print(f\"Observed μ upper limit (obs): {obs_limit:.3f}, Expected μ upper limit {exp_limits[2]:.3f}\")"
      ],
      "metadata": {
        "colab": {
          "base_uri": "https://localhost:8080/"
        },
        "id": "blxoSUmbCNY8",
        "outputId": "d73ca2f0-26ac-4e4c-d94e-a316a8b5cd12"
      },
      "execution_count": null,
      "outputs": [
        {
          "output_type": "stream",
          "name": "stdout",
          "text": [
            "\n",
            "Best fit parameters:\n",
            "\tmu: 0.00e+00\n"
          ]
        },
        {
          "output_type": "stream",
          "name": "stderr",
          "text": [
            "<ipython-input-64-43ec16e57746>:14: DeprecationWarning: pyhf.infer.intervals.upperlimit is deprecated in favor of pyhf.infer.intervals.upper_limits.upper_limit as of pyhf v0.7.0 and will be removed in pyhf v0.9.0. Please use pyhf.infer.intervals.upper_limits.upper_limit.\n",
            "  obs_limit, exp_limits = pyhf.infer.intervals.upperlimit(data, model, poi_values, level=0.05)\n"
          ]
        },
        {
          "output_type": "stream",
          "name": "stdout",
          "text": [
            "Observed μ upper limit (obs): 3.027, Expected μ upper limit 3.027\n"
          ]
        }
      ]
    },
    {
      "cell_type": "code",
      "source": [
        "data = tot[0].tolist() + model.config.auxdata\n",
        "\n",
        "best_pars = pyhf.infer.mle.fit(data=data, pdf=model)\n",
        "print(\"\\nBest fit parameters:\")\n",
        "for i,p in enumerate(best_pars):\n",
        "  print(f'\\t{model.config.par_order[i]}: {best_pars[i]:.2e}')\n",
        "\n",
        "\n",
        "test_stat = \"qtilde\"\n",
        "test_poi = 1.\n",
        "\n",
        "# Vary mu values\n",
        "poi_values = np.linspace(0.1, 5, 50)\n",
        "obs_limit, exp_limits = pyhf.infer.intervals.upperlimit(data, model, poi_values, level=0.05)\n",
        "print(f\"Observed μ upper limit (obs): {obs_limit:.3f}, Expected μ upper limit {exp_limits[2]:.3f}\")"
      ],
      "metadata": {
        "colab": {
          "base_uri": "https://localhost:8080/"
        },
        "id": "zpUSYrpeCTIM",
        "outputId": "aeee7417-ac4c-430a-a93a-a5cfc40a7a47"
      },
      "execution_count": null,
      "outputs": [
        {
          "metadata": {
            "tags": null
          },
          "name": "stdout",
          "output_type": "stream",
          "text": [
            "\n",
            "Best fit parameters:\n",
            "\tmu: 8.02e-01\n"
          ]
        },
        {
          "metadata": {
            "tags": null
          },
          "name": "stderr",
          "output_type": "stream",
          "text": [
            "<ipython-input-65-5542503acdb2>:14: DeprecationWarning: pyhf.infer.intervals.upperlimit is deprecated in favor of pyhf.infer.intervals.upper_limits.upper_limit as of pyhf v0.7.0 and will be removed in pyhf v0.9.0. Please use pyhf.infer.intervals.upper_limits.upper_limit.\n",
            "  obs_limit, exp_limits = pyhf.infer.intervals.upperlimit(data, model, poi_values, level=0.05)\n"
          ]
        },
        {
          "metadata": {
            "tags": null
          },
          "name": "stdout",
          "output_type": "stream",
          "text": [
            "Observed μ upper limit (obs): 3.613, Expected μ upper limit 3.027\n"
          ]
        }
      ]
    }
  ]
}